{
 "cells": [
  {
   "cell_type": "code",
   "execution_count": 1,
   "id": "737f6fb2",
   "metadata": {},
   "outputs": [],
   "source": [
    "from make_dataset_up_down import *\n",
    "import matplotlib.pyplot as plt\n",
    "# from ipywidgets import interact\n",
    "%matplotlib inline\n"
   ]
  },
  {
   "cell_type": "code",
   "execution_count": 2,
   "id": "9d945e8d",
   "metadata": {},
   "outputs": [],
   "source": [
    "#### LAB PC\n",
    "# parent = r\"C:\\__NeuroSpark_Liset_Dataset__\\neurospark_mat\\CNN_TRAINING_SESSIONS\" # Modify this to your data path folder\n",
    "parent = r\"C:\\__NeuroSpark_Liset_Dataset__\\neurospark_mat\\Download_from_paper\" # Modify this to your data path folder\n",
    "\n",
    "### HOME PC\n",
    "# parent=r\"E:\\neurospark_mat\\CNN_TRAINING_SESSIONS\"\n",
    "# parent=r\"E:\\neurospark_mat\\Download_from_paper\" # Modify this to your data path folder\n",
    "downsampled_fs= 30000\n",
    "save_dir = os.path.join(os.getcwd(),\"train_pedro\",\"dataset_up_down\")\n",
    "time_max=120 # seconds\n",
    "window_size=0.05 # seconds # 50 ms\n",
    "sample_ratio=0.25 # ratio of max amplitudes to use\n",
    "scaling_factor=1 # scale factor for the threshold\n",
    "refractory=0 # seconds\n",
    "bandpass=[100,250]\n",
    "min_threshold=0.1 # minimum threshold for the spike detection\n",
    "save=True\n",
    "chunk_size=10000000"
   ]
  },
  {
   "cell_type": "code",
   "execution_count": 9,
   "id": "969625b7",
   "metadata": {},
   "outputs": [
    {
     "name": "stdout",
     "output_type": "stream",
     "text": [
      "Extracting UP/Down Spikes ...\n",
      "Amigo2_2019-07-11_11-57-07\n",
      "Ripples - shape: (1309, 2)\n",
      "Frequency: 30000 Hz -> 30000 Hz\n",
      "Thresholds: [0.2428 0.27   0.2802 0.3189 0.2672 0.2844 0.2452 0.2346]\n",
      "Shape of the loaded data: (71965696, 8)\n",
      "Channel: 1\n",
      "Channel: 2\n",
      "Channel: 3\n",
      "Channel: 4\n",
      "Channel: 5\n",
      "Channel: 6\n",
      "Channel: 7\n",
      "Channel: 8\n",
      "Saved UP-DOWN DataSet - Amigo2_2019-07-11_11-57-07\n",
      "Saved Ripples - Amigo2_2019-07-11_11-57-07\n",
      "Dlx1_2021-02-12_12-46-54\n",
      "Ripples - shape: (211, 2)\n",
      "Frequency: 30000 Hz -> 30000 Hz\n",
      "Thresholds: [0.2586 0.2939 0.2892 0.3031 0.3119 0.282  0.2856 0.2633]\n",
      "Shape of the loaded data: (30640128, 8)\n",
      "Channel: 1\n",
      "Channel: 2\n",
      "Channel: 3\n",
      "Channel: 4\n",
      "Channel: 5\n",
      "Channel: 6\n",
      "Channel: 7\n",
      "Channel: 8\n",
      "Saved UP-DOWN DataSet - Dlx1_2021-02-12_12-46-54\n",
      "Saved Ripples - Dlx1_2021-02-12_12-46-54\n",
      "Som2_2019-07-24_12-01-49\n",
      "Ripples - shape: (485, 2)\n",
      "Frequency: 30000 Hz -> 30000 Hz\n",
      "Thresholds: [0.3022 0.2958 0.3149 0.2984 0.286  0.2689 0.2591 0.2417]\n",
      "Shape of the loaded data: (31087616, 8)\n",
      "Channel: 1\n",
      "Channel: 2\n",
      "Channel: 3\n",
      "Channel: 4\n",
      "Channel: 5\n",
      "Channel: 6\n",
      "Channel: 7\n",
      "Channel: 8\n",
      "Saved UP-DOWN DataSet - Som2_2019-07-24_12-01-49\n",
      "Saved Ripples - Som2_2019-07-24_12-01-49\n",
      "Thy7_2020-11-11_16-05-00\n",
      "Ripples - shape: (1064, 2)\n",
      "Frequency: 30000 Hz -> 30000 Hz\n",
      "Thresholds: [0.25   0.2414 0.265  0.2488 0.2477 0.2311 0.2275 0.2158]\n",
      "Shape of the loaded data: (22326272, 8)\n",
      "Channel: 1\n",
      "Channel: 2\n",
      "Channel: 3\n",
      "Channel: 4\n",
      "Channel: 5\n",
      "Channel: 6\n",
      "Channel: 7\n",
      "Channel: 8\n",
      "Saved UP-DOWN DataSet - Thy7_2020-11-11_16-05-00\n",
      "Saved Ripples - Thy7_2020-11-11_16-05-00\n"
     ]
    }
   ],
   "source": [
    "make_up_down_nochunks(parent=parent,downsampled_fs=downsampled_fs,save_dir=save_dir,\n",
    "                 time_max=time_max,window_size=window_size,sample_ratio=sample_ratio,scaling_factor=scaling_factor,\n",
    "                 refractory=refractory,bandpass=bandpass,min_threshold=min_threshold,save=save,threshold=threshold) "
   ]
  },
  {
   "cell_type": "code",
   "execution_count": 3,
   "id": "42127233",
   "metadata": {},
   "outputs": [
    {
     "name": "stdout",
     "output_type": "stream",
     "text": [
      "Loaded LFPs: C:\\__NeuroSpark_Liset_Dataset__\\neurospark_mat\\Download_from_paper\\Amigo2_2019-07-11_11-57-07\n",
      "Loaded UP/DN SPikes: c:\\Users\\NCN\\Documents\\PedroFelix\\LAVA_SNN_ripples\\extract_Nripples\\train_pedro\\dataset_up_down\\Amigo2_2019-07-11_11-57-07\\30000\\data_up_down_100_250_SF.npy\n",
      "Factor: 30\n",
      "(71965696, 8, 2)\n",
      "Saved DOWNsampled UP-DOWN DataSet - Amigo2_2019-07-11_11-57-07\n",
      "Loaded LFPs: C:\\__NeuroSpark_Liset_Dataset__\\neurospark_mat\\Download_from_paper\\Dlx1_2021-02-12_12-46-54\n",
      "Loaded UP/DN SPikes: c:\\Users\\NCN\\Documents\\PedroFelix\\LAVA_SNN_ripples\\extract_Nripples\\train_pedro\\dataset_up_down\\Dlx1_2021-02-12_12-46-54\\30000\\data_up_down_100_250_SF.npy\n",
      "Factor: 30\n",
      "(30640128, 8, 2)\n",
      "Saved DOWNsampled UP-DOWN DataSet - Dlx1_2021-02-12_12-46-54\n",
      "Loaded LFPs: C:\\__NeuroSpark_Liset_Dataset__\\neurospark_mat\\Download_from_paper\\Som2_2019-07-24_12-01-49\n",
      "Loaded UP/DN SPikes: c:\\Users\\NCN\\Documents\\PedroFelix\\LAVA_SNN_ripples\\extract_Nripples\\train_pedro\\dataset_up_down\\Som2_2019-07-24_12-01-49\\30000\\data_up_down_100_250_SF.npy\n",
      "Factor: 30\n",
      "(31087616, 8, 2)\n",
      "Saved DOWNsampled UP-DOWN DataSet - Som2_2019-07-24_12-01-49\n",
      "Loaded LFPs: C:\\__NeuroSpark_Liset_Dataset__\\neurospark_mat\\Download_from_paper\\Thy7_2020-11-11_16-05-00\n",
      "Loaded UP/DN SPikes: c:\\Users\\NCN\\Documents\\PedroFelix\\LAVA_SNN_ripples\\extract_Nripples\\train_pedro\\dataset_up_down\\Thy7_2020-11-11_16-05-00\\30000\\data_up_down_100_250_SF.npy\n",
      "Factor: 30\n",
      "(22326272, 8, 2)\n",
      "Saved DOWNsampled UP-DOWN DataSet - Thy7_2020-11-11_16-05-00\n",
      "Total spikes lost (all datasets): 511326.0 (11.1%) out of 4607192.0 total spikes\n",
      "Total spikes Downsampled: 4095866.0)\n"
     ]
    }
   ],
   "source": [
    "downsample_spikes(original_freq=30000,target_freq=1000,save_dir=save_dir,parent=parent,bandpass=bandpass,)"
   ]
  },
  {
   "cell_type": "code",
   "execution_count": null,
   "id": "a6d12b7d",
   "metadata": {},
   "outputs": [],
   "source": [
    "# plot_reconstruction(parent=parent,channels=[2],ripple=100,downsampled_fs=downsampled_fs,id=0)\n",
    "# plot_reconstruction(parent=parent,channels=[2],ripple=100,downsampled_fs=downsampled_fs,id=1)\n",
    "# plot_reconstruction(parent=parent,channels=[2],ripple=100,downsampled_fs=downsampled_fs,id=2)\n",
    "# plot_reconstruction(parent=parent,channels=[2],ripple=100,downsampled_fs=downsampled_fs,id=3)\n",
    "# plt.show()"
   ]
  },
  {
   "cell_type": "code",
   "execution_count": null,
   "id": "955e329f",
   "metadata": {},
   "outputs": [],
   "source": [
    "# fig,axes=plot_reconstruction_whole(parent=parent,channels=[2],window=[30000,100000],downsampled_fs=downsampled_fs)\n",
    "# plt.show()"
   ]
  },
  {
   "cell_type": "code",
   "execution_count": null,
   "id": "1c97c83e",
   "metadata": {},
   "outputs": [
    {
     "name": "stdout",
     "output_type": "stream",
     "text": [
      "Dataset: Amigo2_2019-07-11_11-57-07\n",
      "Frequency: 30000 Hz\n",
      "Loaded LFPs: C:\\__NeuroSpark_Liset_Dataset__\\neurospark_mat\\Download_from_paper\\Amigo2_2019-07-11_11-57-07\n",
      "Channel: 1\n",
      "Downsampling factor: 30\n",
      "Channel: 2\n",
      "Downsampling factor: 30\n",
      "Channel: 3\n",
      "Downsampling factor: 30\n",
      "Channel: 4\n",
      "Downsampling factor: 30\n",
      "Channel: 5\n",
      "Downsampling factor: 30\n",
      "Channel: 6\n",
      "Downsampling factor: 30\n",
      "Channel: 7\n",
      "Downsampling factor: 30\n",
      "Channel: 8\n",
      "Downsampling factor: 30\n",
      "Loaded UP/DN SPikes: c:\\Users\\NCN\\Documents\\PedroFelix\\LAVA_SNN_ripples\\extract_Nripples\\train_pedro\\dataset_up_down\\Amigo2_2019-07-11_11-57-07\\30000\\spikes_downsampled_1000Hz.npy\n",
      "Shape of the filtered data: (2398856, 8)\n",
      "Shape of the UP/DN data: (2398856, 8, 2)\n",
      "Channel: 1\n",
      "General Metrics:\n",
      " {'SNR': -134.82840366515762, 'RMSE': 390.932356322355, 'R_squared': -5513407.649772325, 'AFR': 147.99679513901626}\n",
      "Ripple Metrics:\n",
      " {'SNR': -104.78952751138614, 'RMSE': 295.9163733271507, 'R_squared': -788909.8135251639, 'AFR': 600.2664854379714}\n",
      "Channel: 2\n",
      "General Metrics:\n",
      " {'SNR': -132.0867244176381, 'RMSE': 352.31434488675666, 'R_squared': -4021018.885682695, 'AFR': 136.6522208919585}\n",
      "Ripple Metrics:\n",
      " {'SNR': -103.49803684985667, 'RMSE': 267.5468725997345, 'R_squared': -617045.628802297, 'AFR': 585.3695824606779}\n",
      "Channel: 3\n",
      "General Metrics:\n",
      " {'SNR': -129.5161782848466, 'RMSE': 280.7464332088781, 'R_squared': -2990947.3560463586, 'AFR': 118.31097823295771}\n",
      "Ripple Metrics:\n",
      " {'SNR': -104.24323184749316, 'RMSE': 235.90325351884852, 'R_squared': -686371.9101399495, 'AFR': 532.6027852000029}\n",
      "Channel: 4\n",
      "General Metrics:\n",
      " {'SNR': -126.96243079591319, 'RMSE': 236.91954721314974, 'R_squared': -2229057.87687155, 'AFR': 92.43656142761384}\n",
      "Ripple Metrics:\n",
      " {'SNR': -102.75576639346738, 'RMSE': 201.7750882099036, 'R_squared': -569485.6759748147, 'AFR': 467.2534872914319}\n",
      "Channel: 5\n",
      "General Metrics:\n",
      " {'SNR': -120.44650644345951, 'RMSE': 136.35098787369748, 'R_squared': -1052749.174727267, 'AFR': 102.07865749340519}\n",
      "Ripple Metrics:\n",
      " {'SNR': -99.0105375807595, 'RMSE': 119.55133917022395, 'R_squared': -301471.37327474065, 'AFR': 439.70577887661335}\n",
      "Channel: 6\n",
      "General Metrics:\n",
      " {'SNR': -117.52959450102458, 'RMSE': 112.10009436809344, 'R_squared': -752452.6012119784, 'AFR': 87.4170854774109}\n",
      "Ripple Metrics:\n",
      " {'SNR': -97.07052905436069, 'RMSE': 97.72509142958313, 'R_squared': -250196.08177940885, 'AFR': 388.1466413607047}\n",
      "Channel: 7\n",
      "General Metrics:\n",
      " {'SNR': -105.81223468000276, 'RMSE': 49.51177060328111, 'R_squared': -195258.30267881116, 'AFR': 96.25713256652338}\n",
      "Ripple Metrics:\n",
      " {'SNR': -87.36185972228806, 'RMSE': 42.834729039309025, 'R_squared': -75664.40399612306, 'AFR': 352.4208540319335}\n",
      "Channel: 8\n",
      "General Metrics:\n",
      " {'SNR': -94.1188463967106, 'RMSE': 23.73970701016334, 'R_squared': -50808.19566147754, 'AFR': 93.78178598465269}\n",
      "Ripple Metrics:\n",
      " {'SNR': -75.16947607824805, 'RMSE': 20.34438195408346, 'R_squared': -21904.848516740873, 'AFR': 321.05602439118326}\n",
      "Total Dataset: Amigo2_2019-07-11_11-57-07\n",
      "Total UP Spikes: 1044417\n",
      "Total DOWN Spikes: 1054417\n",
      "Total Spikes: 2098834\n",
      "Average Channels Metrics:\n",
      " {'SNR': -120.1626148980941, 'RMSE': 197.82690518579687, 'R_squared': -2100712.5053315577, 'AFR': 109.3664021516923}\n",
      "Average Ripples Metrics:\n",
      " {'SNR': -96.73737062973245, 'RMSE': 160.19964115610463, 'R_squared': -413881.21700115484, 'AFR': 460.8527048813148}\n",
      "Dataset: Dlx1_2021-02-12_12-46-54\n"
     ]
    }
   ],
   "source": [
    "evaluate_encoding(parent=parent,downsampled_fs=downsampled_fs,save_dir=save_dir,bandpass=bandpass,save=save,spike_downsampled=1000,verbose=True)"
   ]
  }
 ],
 "metadata": {
  "kernelspec": {
   "display_name": "lava_snn_ripples",
   "language": "python",
   "name": "python3"
  },
  "language_info": {
   "codemirror_mode": {
    "name": "ipython",
    "version": 3
   },
   "file_extension": ".py",
   "mimetype": "text/x-python",
   "name": "python",
   "nbconvert_exporter": "python",
   "pygments_lexer": "ipython3",
   "version": "3.9.21"
  }
 },
 "nbformat": 4,
 "nbformat_minor": 5
}
