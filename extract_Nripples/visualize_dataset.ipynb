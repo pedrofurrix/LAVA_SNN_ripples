{
 "cells": [
  {
   "cell_type": "code",
   "execution_count": null,
   "metadata": {},
   "outputs": [],
   "source": [
    "from make_dataset_up_down import *"
   ]
  },
  {
   "cell_type": "code",
   "execution_count": null,
   "metadata": {},
   "outputs": [],
   "source": [
    "downsampled_fs= 4000\n",
    "save_dir = os.path.join(os.getcwd(),\"train_pedro\",\"dataset_up_down\")\n",
    "time_max=60 # seconds\n",
    "window_size=0.05 # seconds # 50 ms\n",
    "sample_ratio=0.25 # ratio of max amplitudes to use\n",
    "scaling_factor=1 # scale factor for the threshold\n",
    "refractory=0 # seconds\n",
    "bandpass=[100,250]\n",
    "min_threshold=0.1 # minimum threshold for the spike detection\n",
    "save=False\n",
    "chunk_size=10000000"
   ]
  },
  {
   "cell_type": "code",
   "execution_count": null,
   "metadata": {},
   "outputs": [],
   "source": [
    "evaluate_encoding(save_dir=save_dir,bandpass=bandpass,downsampled_fs=downsampled_fs,parent=parent,save=save)"
   ]
  },
  {
   "cell_type": "code",
   "execution_count": 6,
   "metadata": {},
   "outputs": [
    {
     "name": "stdout",
     "output_type": "stream",
     "text": [
      "Ripples - shape: (1309, 2)\n",
      "Thresholds: [0.22569383 0.25880589 0.26772733 0.1        0.1        0.29163877\n",
      " 0.30837595 0.1       ]\n",
      "Shape of the loaded data: (9595426, 8)\n",
      "Channel: 1\n",
      "Channel: 2\n",
      "Channel: 3\n",
      "Channel: 4\n",
      "Channel: 5\n",
      "Channel: 6\n",
      "Channel: 7\n",
      "Channel: 8\n"
     ]
    },
    {
     "data": {
      "text/plain": [
       "(array([[[0., 0.],\n",
       "         [0., 0.],\n",
       "         [0., 0.],\n",
       "         ...,\n",
       "         [0., 0.],\n",
       "         [0., 0.],\n",
       "         [0., 0.]],\n",
       " \n",
       "        [[0., 0.],\n",
       "         [0., 0.],\n",
       "         [0., 0.],\n",
       "         ...,\n",
       "         [0., 0.],\n",
       "         [0., 0.],\n",
       "         [0., 0.]],\n",
       " \n",
       "        [[0., 0.],\n",
       "         [0., 0.],\n",
       "         [0., 0.],\n",
       "         ...,\n",
       "         [0., 0.],\n",
       "         [0., 0.],\n",
       "         [0., 0.]],\n",
       " \n",
       "        ...,\n",
       " \n",
       "        [[0., 0.],\n",
       "         [0., 0.],\n",
       "         [0., 0.],\n",
       "         ...,\n",
       "         [0., 0.],\n",
       "         [0., 0.],\n",
       "         [0., 0.]],\n",
       " \n",
       "        [[0., 0.],\n",
       "         [0., 0.],\n",
       "         [0., 0.],\n",
       "         ...,\n",
       "         [0., 0.],\n",
       "         [0., 0.],\n",
       "         [0., 0.]],\n",
       " \n",
       "        [[0., 0.],\n",
       "         [0., 0.],\n",
       "         [0., 0.],\n",
       "         ...,\n",
       "         [0., 0.],\n",
       "         [0., 0.],\n",
       "         [0., 0.]]]),\n",
       " array([[ 0.00957934, -0.00859678, -0.00246316, ..., -0.01949845,\n",
       "         -0.00714396, -0.00060358],\n",
       "        [ 0.04192746,  0.00971038,  0.06720794, ...,  0.02340448,\n",
       "          0.04543642,  0.00279665],\n",
       "        [ 0.07170467,  0.02742593,  0.13234442, ...,  0.06384291,\n",
       "          0.09597258,  0.00603329],\n",
       "        ...,\n",
       "        [ 0.0915071 ,  0.04059406,  0.01770978, ..., -0.01317512,\n",
       "          0.07597351,  0.04246635],\n",
       "        [ 0.04979581,  0.01326699,  0.00204497, ..., -0.03149325,\n",
       "          0.03522705,  0.02209194],\n",
       "        [ 0.00942974, -0.01200274, -0.01198233, ..., -0.04456807,\n",
       "         -0.00437425,  0.0016279 ]]))"
      ]
     },
     "execution_count": 6,
     "metadata": {},
     "output_type": "execute_result"
    }
   ],
   "source": [
    "make_up_down_nochunks(parent=parent,downsampled_fs=downsampled_fs,save_dir=save_dir,\n",
    "                 time_max=time_max,window_size=window_size,sample_ratio=sample_ratio,scaling_factor=scaling_factor,\n",
    "                 refractory=refractory,bandpass=bandpass,min_threshold=min_threshold,save=save)"
   ]
  },
  {
   "cell_type": "code",
   "execution_count": null,
   "metadata": {},
   "outputs": [],
   "source": [
    "plot_channels(channels=[0,1,2,3,4,5,6,7],id=0,ripple=1,diff_plots=False,downsampled_fs=downsampled_fs,)"
   ]
  },
  {
   "cell_type": "code",
   "execution_count": null,
   "metadata": {},
   "outputs": [],
   "source": [
    "plot_channels(channels=[0,1,2,3,4,5,6,7],id=1,ripple=1,diff_plots=False,downsampled_fs=downsampled_fs,)"
   ]
  },
  {
   "cell_type": "code",
   "execution_count": null,
   "metadata": {},
   "outputs": [],
   "source": [
    "spikified_chunks,filtered_chunks=make_up_down(save=False)"
   ]
  },
  {
   "cell_type": "code",
   "execution_count": null,
   "metadata": {},
   "outputs": [],
   "source": [
    "plot_channels(spikified_chunks,channels=[0,1,2,3,4,5,6,7],id=0,ripple=7,diff_plots=False)"
   ]
  },
  {
   "cell_type": "code",
   "execution_count": null,
   "metadata": {},
   "outputs": [],
   "source": [
    "plot_channels(spikified_chunks,filtered_chunks,channels=[0,1,2,3,4,5,6,7],id=0,ripple=7,diff_plots=False)"
   ]
  },
  {
   "cell_type": "code",
   "execution_count": null,
   "metadata": {},
   "outputs": [],
   "source": [
    "plot_reconstruction(channels=[1],ripple=1)"
   ]
  },
  {
   "cell_type": "code",
   "execution_count": null,
   "metadata": {},
   "outputs": [],
   "source": [
    "plot_ripple_stats()"
   ]
  }
 ],
 "metadata": {
  "kernelspec": {
   "display_name": "lava_snn_ripples",
   "language": "python",
   "name": "python3"
  },
  "language_info": {
   "codemirror_mode": {
    "name": "ipython",
    "version": 3
   },
   "file_extension": ".py",
   "mimetype": "text/x-python",
   "name": "python",
   "nbconvert_exporter": "python",
   "pygments_lexer": "ipython3",
   "version": "3.9.21"
  }
 },
 "nbformat": 4,
 "nbformat_minor": 2
}
