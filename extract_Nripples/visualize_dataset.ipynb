{
 "cells": [
  {
   "cell_type": "code",
   "execution_count": 1,
   "metadata": {},
   "outputs": [
    {
     "name": "stderr",
     "output_type": "stream",
     "text": [
      "No CUDA runtime is found, using CUDA_HOME='C:\\Program Files\\NVIDIA GPU Computing Toolkit\\CUDA\\v11.5'\n"
     ]
    },
    {
     "name": "stdout",
     "output_type": "stream",
     "text": [
      "WARNING:tensorflow:From c:\\Users\\NCN\\Miniconda3\\envs\\lava_snn_ripples\\lib\\site-packages\\keras\\src\\losses.py:2976: The name tf.losses.sparse_softmax_cross_entropy is deprecated. Please use tf.compat.v1.losses.sparse_softmax_cross_entropy instead.\n",
      "\n"
     ]
    }
   ],
   "source": [
    "from make_dataset_up_down import *"
   ]
  },
  {
   "cell_type": "code",
   "execution_count": 3,
   "metadata": {},
   "outputs": [],
   "source": [
    "downsampled_fs= 1000\n",
    "save_dir = os.path.join(os.getcwd(),\"train_pedro\",\"dataset_up_down\")\n",
    "time_max=60 # seconds\n",
    "window_size=0.05 # seconds # 50 ms\n",
    "sample_ratio=0.25 # ratio of max amplitudes to use\n",
    "scaling_factor=1 # scale factor for the threshold\n",
    "refractory=0 # seconds\n",
    "bandpass=[100,250]\n",
    "min_threshold=0.1 # minimum threshold for the spike detection\n",
    "save=True\n",
    "chunk_size=10000000"
   ]
  },
  {
   "cell_type": "code",
   "execution_count": null,
   "metadata": {},
   "outputs": [],
   "source": [
    "evaluate_encoding(save_dir=save_dir,bandpass=bandpass,downsampled_fs=downsampled_fs,parent=parent,save=save)"
   ]
  },
  {
   "cell_type": "code",
   "execution_count": 4,
   "metadata": {},
   "outputs": [
    {
     "name": "stdout",
     "output_type": "stream",
     "text": [
      "Extracting UP/Down Spikes ...\n",
      "Amigo2_1_hippo_2019-07-11_11-57-07_1150um\n",
      "Ripples - shape: (1309, 2)\n",
      "Thresholds: [0.24891878 0.27196819 0.28780053 0.1        0.1        0.3165295\n",
      " 0.32965645 0.1       ]\n",
      "Shape of the loaded data: (2398857, 8)\n",
      "Channel: 1\n",
      "Channel: 2\n",
      "Channel: 3\n",
      "Channel: 4\n",
      "Channel: 5\n",
      "Channel: 6\n",
      "Channel: 7\n",
      "Channel: 8\n",
      "Saved UP-DOWN DataSet - Amigo2_1_hippo_2019-07-11_11-57-07_1150um\n",
      "Saved Ripples - Amigo2_1_hippo_2019-07-11_11-57-07_1150um\n",
      "Som_2_hippo_2019-07-24_12-01-49_1530um\n",
      "Ripples - shape: (485, 2)\n",
      "Thresholds: [0.26747973 0.28034923 0.27408688 0.25589812 0.3353839  0.32114568\n",
      " 0.28483715 0.30431673]\n",
      "Shape of the loaded data: (1036254, 8)\n",
      "Channel: 1\n",
      "Channel: 2\n",
      "Channel: 3\n",
      "Channel: 4\n",
      "Channel: 5\n",
      "Channel: 6\n",
      "Channel: 7\n",
      "Channel: 8\n",
      "Saved UP-DOWN DataSet - Som_2_hippo_2019-07-24_12-01-49_1530um\n",
      "Saved Ripples - Som_2_hippo_2019-07-24_12-01-49_1530um\n"
     ]
    }
   ],
   "source": [
    "make_up_down_nochunks(parent=parent,downsampled_fs=downsampled_fs,save_dir=save_dir,\n",
    "                 time_max=time_max,window_size=window_size,sample_ratio=sample_ratio,scaling_factor=scaling_factor,\n",
    "                 refractory=refractory,bandpass=bandpass,min_threshold=min_threshold,save=save)"
   ]
  },
  {
   "cell_type": "code",
   "execution_count": null,
   "metadata": {},
   "outputs": [],
   "source": [
    "plot_channels(channels=[0,1,2,3,4,5,6,7],id=0,ripple=1,diff_plots=False,downsampled_fs=downsampled_fs,)"
   ]
  },
  {
   "cell_type": "code",
   "execution_count": null,
   "metadata": {},
   "outputs": [],
   "source": [
    "plot_channels(channels=[0,1,2,3,4,5,6,7],id=1,ripple=1,diff_plots=False,downsampled_fs=downsampled_fs,)"
   ]
  },
  {
   "cell_type": "code",
   "execution_count": null,
   "metadata": {},
   "outputs": [],
   "source": [
    "spikified_chunks,filtered_chunks=make_up_down(save=False)"
   ]
  },
  {
   "cell_type": "code",
   "execution_count": null,
   "metadata": {},
   "outputs": [],
   "source": [
    "plot_channels(spikified_chunks,channels=[0,1,2,3,4,5,6,7],id=0,ripple=7,diff_plots=False)"
   ]
  },
  {
   "cell_type": "code",
   "execution_count": null,
   "metadata": {},
   "outputs": [],
   "source": [
    "plot_channels(spikified_chunks,filtered_chunks,channels=[0,1,2,3,4,5,6,7],id=0,ripple=7,diff_plots=False)"
   ]
  },
  {
   "cell_type": "code",
   "execution_count": null,
   "metadata": {},
   "outputs": [],
   "source": [
    "plot_reconstruction(channels=[1],ripple=1)"
   ]
  },
  {
   "cell_type": "code",
   "execution_count": null,
   "metadata": {},
   "outputs": [],
   "source": [
    "plot_ripple_stats()"
   ]
  }
 ],
 "metadata": {
  "kernelspec": {
   "display_name": "lava_snn_ripples",
   "language": "python",
   "name": "python3"
  },
  "language_info": {
   "codemirror_mode": {
    "name": "ipython",
    "version": 3
   },
   "file_extension": ".py",
   "mimetype": "text/x-python",
   "name": "python",
   "nbconvert_exporter": "python",
   "pygments_lexer": "ipython3",
   "version": "3.9.21"
  }
 },
 "nbformat": 4,
 "nbformat_minor": 2
}
