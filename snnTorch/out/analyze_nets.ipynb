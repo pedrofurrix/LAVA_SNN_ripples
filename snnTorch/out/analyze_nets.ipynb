{
 "cells": [
  {
   "cell_type": "code",
   "execution_count": 1,
   "id": "b6151d77",
   "metadata": {},
   "outputs": [
    {
     "name": "stdout",
     "output_type": "stream",
     "text": [
      "c:\\Users\\NCN\\Documents\\PedroFelix\\LAVA_SNN_ripples\\snnTorch\\out\n"
     ]
    }
   ],
   "source": [
    "\n",
    "# Show current directory\n",
    "import os\n",
    "curr_dir = os.getcwd()\n",
    "print(curr_dir)"
   ]
  },
  {
   "cell_type": "code",
   "execution_count": 2,
   "id": "e3297891",
   "metadata": {},
   "outputs": [
    {
     "name": "stdout",
     "output_type": "stream",
     "text": [
      "['c:\\\\nrn\\\\lib\\\\python', 'c:\\\\Users\\\\NCN\\\\Miniconda3\\\\envs\\\\lava_snn_ripples\\\\python39.zip', 'c:\\\\Users\\\\NCN\\\\Miniconda3\\\\envs\\\\lava_snn_ripples\\\\DLLs', 'c:\\\\Users\\\\NCN\\\\Miniconda3\\\\envs\\\\lava_snn_ripples\\\\lib', 'c:\\\\Users\\\\NCN\\\\Miniconda3\\\\envs\\\\lava_snn_ripples', '', 'c:\\\\Users\\\\NCN\\\\Miniconda3\\\\envs\\\\lava_snn_ripples\\\\lib\\\\site-packages', 'c:\\\\Users\\\\NCN\\\\Miniconda3\\\\envs\\\\lava_snn_ripples\\\\lib\\\\site-packages\\\\win32', 'c:\\\\Users\\\\NCN\\\\Miniconda3\\\\envs\\\\lava_snn_ripples\\\\lib\\\\site-packages\\\\win32\\\\lib', 'c:\\\\Users\\\\NCN\\\\Miniconda3\\\\envs\\\\lava_snn_ripples\\\\lib\\\\site-packages\\\\Pythonwin', 'c:\\\\Users\\\\NCN\\\\Documents\\\\PedroFelix\\\\LAVA_SNN_ripples\\\\snnTorch', 'c:\\\\Users\\\\NCN\\\\Documents\\\\PedroFelix\\\\LAVA_SNN_ripples']\n"
     ]
    }
   ],
   "source": [
    "import sys\n",
    "parent_dir = os.path.abspath(os.path.join(curr_dir, os.pardir))\n",
    "# Add the grandparent directory to the system path\n",
    "grandparent_dir = os.path.abspath(os.path.join(curr_dir, os.pardir, os.pardir))\n",
    "sys.path.append(parent_dir)\n",
    "sys.path.append(grandparent_dir)\n",
    "print(sys.path)"
   ]
  },
  {
   "cell_type": "code",
   "execution_count": 3,
   "id": "88860539",
   "metadata": {},
   "outputs": [
    {
     "name": "stdout",
     "output_type": "stream",
     "text": [
      "False\n",
      "Number of GPUs: 0\n"
     ]
    }
   ],
   "source": [
    "import torch\n",
    "import numpy as np\n",
    "\n",
    "# Check CUDA Installation\n",
    "print(torch.cuda.is_available())\n",
    "\n",
    "# Get the number of available GPUs\n",
    "num_gpus = torch.cuda.device_count()\n",
    "print(f\"Number of GPUs: {num_gpus}\")\n",
    "\n",
    "# Get information about each GPU\n",
    "for i in range(num_gpus):\n",
    "    device_props = torch.cuda.get_device_properties(i)\n",
    "    print(f\"\\nGPU {i}:\")\n",
    "    print(f\"  Name: {device_props.name}\")\n",
    "    print(f\"  Total memory: {device_props.total_memory / 1024**3:.2f} GB\")\n",
    "    print(f\"  Multiprocessor count: {device_props.multi_processor_count}\")\n",
    "    print(f\"  Major compute capability: {device_props.major}\")\n",
    "    print(f\"  Minor compute capability: {device_props.minor}\")"
   ]
  },
  {
   "cell_type": "code",
   "execution_count": 7,
   "id": "b51d78a7",
   "metadata": {},
   "outputs": [
    {
     "name": "stdout",
     "output_type": "stream",
     "text": [
      "odict_keys(['fc_in.weight', 'lif1.beta', 'lif1.alpha', 'lif1.threshold', 'lif1.graded_spikes_factor', 'lif1.reset_mechanism_val', 'fc3.weight', 'lif2.beta', 'lif2.alpha', 'lif2.threshold', 'lif2.graded_spikes_factor', 'lif2.reset_mechanism_val', 'fc_out.weight', 'lif_out.beta', 'lif_out.alpha', 'lif_out.threshold', 'lif_out.graded_spikes_factor', 'lif_out.reset_mechanism_val'])\n",
      "fc_in.weight: torch.Size([24, 2])\n",
      "lif1.beta: torch.Size([24])\n",
      "lif1.alpha: torch.Size([24])\n",
      "lif1.threshold: torch.Size([])\n",
      "lif1.graded_spikes_factor: torch.Size([])\n",
      "lif1.reset_mechanism_val: torch.Size([])\n",
      "fc3.weight: torch.Size([16, 24])\n",
      "lif2.beta: torch.Size([16])\n",
      "lif2.alpha: torch.Size([16])\n",
      "lif2.threshold: torch.Size([])\n",
      "lif2.graded_spikes_factor: torch.Size([])\n",
      "lif2.reset_mechanism_val: torch.Size([])\n",
      "fc_out.weight: torch.Size([1, 16])\n",
      "lif_out.beta: torch.Size([])\n",
      "lif_out.alpha: torch.Size([])\n",
      "lif_out.threshold: torch.Size([])\n",
      "lif_out.graded_spikes_factor: torch.Size([])\n",
      "lif_out.reset_mechanism_val: torch.Size([])\n"
     ]
    }
   ],
   "source": [
    "# Load the checkpoint\n",
    "prefix=\"test_mesquita\"\n",
    "checkpoint = torch.load(f\"{prefix}_trained_net_loss.pth\" , map_location=torch.device('cpu'))\n",
    "print(checkpoint.keys())\n",
    "# Extract the state_dict\n",
    "# state_dict = checkpoint['state_dict']\n",
    "\n",
    "# Loop through and print details about each parameter\n",
    "for key, value in checkpoint.items():\n",
    "    print(f'{key}: {value.shape if hasattr(value, \"shape\") else len(value)}')"
   ]
  },
  {
   "cell_type": "code",
   "execution_count": 8,
   "id": "628e254d",
   "metadata": {},
   "outputs": [
    {
     "name": "stdout",
     "output_type": "stream",
     "text": [
      "tensor([[ 0.0331, -0.1287],\n",
      "        [ 0.4914,  0.0858],\n",
      "        [-0.1920, -0.4826],\n",
      "        [-0.0439,  0.2868],\n",
      "        [-0.0350, -0.0056],\n",
      "        [ 0.6130, -0.0605],\n",
      "        [ 0.2599, -0.0032],\n",
      "        [ 0.0270, -0.0350],\n",
      "        [ 0.0530,  0.4527],\n",
      "        [-0.3452, -0.4427],\n",
      "        [ 0.0784,  0.1434],\n",
      "        [-0.0489,  0.0585],\n",
      "        [-0.1737,  0.0665],\n",
      "        [-0.1063,  0.1219],\n",
      "        [ 0.1477, -0.4121],\n",
      "        [-0.1771, -0.5786],\n",
      "        [-0.3887,  0.0448],\n",
      "        [ 0.2391,  0.1343],\n",
      "        [ 0.6419, -0.3214],\n",
      "        [ 0.0570, -0.2166],\n",
      "        [-0.0879,  0.0672],\n",
      "        [ 0.0281,  0.1654],\n",
      "        [-0.4093, -0.0495],\n",
      "        [-0.6055, -0.2483]])\n"
     ]
    }
   ],
   "source": [
    "print(checkpoint['fc_in.weight'])"
   ]
  }
 ],
 "metadata": {
  "kernelspec": {
   "display_name": "lava_snn_ripples",
   "language": "python",
   "name": "python3"
  },
  "language_info": {
   "codemirror_mode": {
    "name": "ipython",
    "version": 3
   },
   "file_extension": ".py",
   "mimetype": "text/x-python",
   "name": "python",
   "nbconvert_exporter": "python",
   "pygments_lexer": "ipython3",
   "version": "3.9.21"
  }
 },
 "nbformat": 4,
 "nbformat_minor": 5
}
